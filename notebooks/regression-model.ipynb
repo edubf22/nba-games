{
 "cells": [
  {
   "cell_type": "markdown",
   "id": "d5e934ce",
   "metadata": {},
   "source": [
    "# Regression model"
   ]
  },
  {
   "cell_type": "markdown",
   "id": "0b0d52bc",
   "metadata": {},
   "source": [
    "In this notebook, we attempt to create a prediction of a team's win percentage by using only advanced team statistics. The outcomes weren't great with the features that were selected, so this model was put on hold. "
   ]
  },
  {
   "cell_type": "markdown",
   "id": "639c0c60",
   "metadata": {},
   "source": [
    "# Import libraries"
   ]
  },
  {
   "cell_type": "code",
   "execution_count": 2,
   "id": "c0fb5f32",
   "metadata": {},
   "outputs": [
    {
     "name": "stderr",
     "output_type": "stream",
     "text": [
      "/home/eduardo/anaconda3/lib/python3.9/site-packages/scipy/__init__.py:146: UserWarning: A NumPy version >=1.16.5 and <1.23.0 is required for this version of SciPy (detected version 1.23.5\n",
      "  warnings.warn(f\"A NumPy version >={np_minversion} and <{np_maxversion}\"\n"
     ]
    }
   ],
   "source": [
    "import pandas as pd\n",
    "\n",
    "from sklearn.model_selection import train_test_split\n",
    "from sklearn.preprocessing import MinMaxScaler\n",
    "from sklearn.linear_model import LinearRegression\n",
    "from sklearn.model_selection import GridSearchCV"
   ]
  },
  {
   "cell_type": "markdown",
   "id": "8a4cf76d",
   "metadata": {},
   "source": [
    "# Load dataset"
   ]
  },
  {
   "cell_type": "code",
   "execution_count": 4,
   "id": "193cbd4f",
   "metadata": {},
   "outputs": [
    {
     "data": {
      "text/html": [
       "<div>\n",
       "<style scoped>\n",
       "    .dataframe tbody tr th:only-of-type {\n",
       "        vertical-align: middle;\n",
       "    }\n",
       "\n",
       "    .dataframe tbody tr th {\n",
       "        vertical-align: top;\n",
       "    }\n",
       "\n",
       "    .dataframe thead th {\n",
       "        text-align: right;\n",
       "    }\n",
       "</style>\n",
       "<table border=\"1\" class=\"dataframe\">\n",
       "  <thead>\n",
       "    <tr style=\"text-align: right;\">\n",
       "      <th></th>\n",
       "      <th>Team</th>\n",
       "      <th>ORtg</th>\n",
       "      <th>DRtg</th>\n",
       "      <th>TS%</th>\n",
       "      <th>TOV%</th>\n",
       "      <th>ORB%</th>\n",
       "      <th>DRB%</th>\n",
       "      <th>Season</th>\n",
       "      <th>W%</th>\n",
       "    </tr>\n",
       "  </thead>\n",
       "  <tbody>\n",
       "    <tr>\n",
       "      <th>0</th>\n",
       "      <td>Sacramento Kings</td>\n",
       "      <td>109.0</td>\n",
       "      <td>101.1</td>\n",
       "      <td>0.539</td>\n",
       "      <td>12.4</td>\n",
       "      <td>27.9</td>\n",
       "      <td>71.7</td>\n",
       "      <td>2001</td>\n",
       "      <td>0.743902</td>\n",
       "    </tr>\n",
       "    <tr>\n",
       "      <th>1</th>\n",
       "      <td>Los Angeles Lakers</td>\n",
       "      <td>109.4</td>\n",
       "      <td>101.7</td>\n",
       "      <td>0.534</td>\n",
       "      <td>11.8</td>\n",
       "      <td>28.8</td>\n",
       "      <td>72.0</td>\n",
       "      <td>2001</td>\n",
       "      <td>0.707317</td>\n",
       "    </tr>\n",
       "    <tr>\n",
       "      <th>2</th>\n",
       "      <td>San Antonio Spurs</td>\n",
       "      <td>106.5</td>\n",
       "      <td>99.7</td>\n",
       "      <td>0.539</td>\n",
       "      <td>13.8</td>\n",
       "      <td>27.2</td>\n",
       "      <td>71.9</td>\n",
       "      <td>2001</td>\n",
       "      <td>0.707317</td>\n",
       "    </tr>\n",
       "    <tr>\n",
       "      <th>3</th>\n",
       "      <td>New Jersey Nets</td>\n",
       "      <td>104.0</td>\n",
       "      <td>99.5</td>\n",
       "      <td>0.515</td>\n",
       "      <td>13.4</td>\n",
       "      <td>29.2</td>\n",
       "      <td>71.6</td>\n",
       "      <td>2001</td>\n",
       "      <td>0.634146</td>\n",
       "    </tr>\n",
       "    <tr>\n",
       "      <th>4</th>\n",
       "      <td>Dallas Mavericks</td>\n",
       "      <td>112.2</td>\n",
       "      <td>107.7</td>\n",
       "      <td>0.553</td>\n",
       "      <td>11.3</td>\n",
       "      <td>26.1</td>\n",
       "      <td>70.7</td>\n",
       "      <td>2001</td>\n",
       "      <td>0.695122</td>\n",
       "    </tr>\n",
       "    <tr>\n",
       "      <th>...</th>\n",
       "      <td>...</td>\n",
       "      <td>...</td>\n",
       "      <td>...</td>\n",
       "      <td>...</td>\n",
       "      <td>...</td>\n",
       "      <td>...</td>\n",
       "      <td>...</td>\n",
       "      <td>...</td>\n",
       "      <td>...</td>\n",
       "    </tr>\n",
       "    <tr>\n",
       "      <th>622</th>\n",
       "      <td>Detroit Pistons</td>\n",
       "      <td>106.0</td>\n",
       "      <td>113.8</td>\n",
       "      <td>0.533</td>\n",
       "      <td>12.6</td>\n",
       "      <td>23.4</td>\n",
       "      <td>75.6</td>\n",
       "      <td>2021</td>\n",
       "      <td>0.280488</td>\n",
       "    </tr>\n",
       "    <tr>\n",
       "      <th>623</th>\n",
       "      <td>Orlando Magic</td>\n",
       "      <td>104.5</td>\n",
       "      <td>112.5</td>\n",
       "      <td>0.538</td>\n",
       "      <td>13.0</td>\n",
       "      <td>19.8</td>\n",
       "      <td>77.2</td>\n",
       "      <td>2021</td>\n",
       "      <td>0.268293</td>\n",
       "    </tr>\n",
       "    <tr>\n",
       "      <th>624</th>\n",
       "      <td>Oklahoma City Thunder</td>\n",
       "      <td>104.6</td>\n",
       "      <td>112.8</td>\n",
       "      <td>0.530</td>\n",
       "      <td>12.5</td>\n",
       "      <td>21.8</td>\n",
       "      <td>76.1</td>\n",
       "      <td>2021</td>\n",
       "      <td>0.292683</td>\n",
       "    </tr>\n",
       "    <tr>\n",
       "      <th>625</th>\n",
       "      <td>Houston Rockets</td>\n",
       "      <td>108.4</td>\n",
       "      <td>116.7</td>\n",
       "      <td>0.565</td>\n",
       "      <td>14.5</td>\n",
       "      <td>21.7</td>\n",
       "      <td>74.4</td>\n",
       "      <td>2021</td>\n",
       "      <td>0.243902</td>\n",
       "    </tr>\n",
       "    <tr>\n",
       "      <th>626</th>\n",
       "      <td>Portland Trail Blazers</td>\n",
       "      <td>107.8</td>\n",
       "      <td>116.9</td>\n",
       "      <td>0.550</td>\n",
       "      <td>13.0</td>\n",
       "      <td>22.9</td>\n",
       "      <td>76.9</td>\n",
       "      <td>2021</td>\n",
       "      <td>0.329268</td>\n",
       "    </tr>\n",
       "  </tbody>\n",
       "</table>\n",
       "<p>627 rows × 9 columns</p>\n",
       "</div>"
      ],
      "text/plain": [
       "                       Team   ORtg   DRtg    TS%  TOV%  ORB%  DRB%  Season  \\\n",
       "0          Sacramento Kings  109.0  101.1  0.539  12.4  27.9  71.7    2001   \n",
       "1        Los Angeles Lakers  109.4  101.7  0.534  11.8  28.8  72.0    2001   \n",
       "2         San Antonio Spurs  106.5   99.7  0.539  13.8  27.2  71.9    2001   \n",
       "3           New Jersey Nets  104.0   99.5  0.515  13.4  29.2  71.6    2001   \n",
       "4          Dallas Mavericks  112.2  107.7  0.553  11.3  26.1  70.7    2001   \n",
       "..                      ...    ...    ...    ...   ...   ...   ...     ...   \n",
       "622         Detroit Pistons  106.0  113.8  0.533  12.6  23.4  75.6    2021   \n",
       "623           Orlando Magic  104.5  112.5  0.538  13.0  19.8  77.2    2021   \n",
       "624   Oklahoma City Thunder  104.6  112.8  0.530  12.5  21.8  76.1    2021   \n",
       "625         Houston Rockets  108.4  116.7  0.565  14.5  21.7  74.4    2021   \n",
       "626  Portland Trail Blazers  107.8  116.9  0.550  13.0  22.9  76.9    2021   \n",
       "\n",
       "           W%  \n",
       "0    0.743902  \n",
       "1    0.707317  \n",
       "2    0.707317  \n",
       "3    0.634146  \n",
       "4    0.695122  \n",
       "..        ...  \n",
       "622  0.280488  \n",
       "623  0.268293  \n",
       "624  0.292683  \n",
       "625  0.243902  \n",
       "626  0.329268  \n",
       "\n",
       "[627 rows x 9 columns]"
      ]
     },
     "execution_count": 4,
     "metadata": {},
     "output_type": "execute_result"
    }
   ],
   "source": [
    "df = pd.read_csv('../saves/processed/processed_adv_stats.csv')\n",
    "df"
   ]
  },
  {
   "cell_type": "code",
   "execution_count": 5,
   "id": "cf21cd0a",
   "metadata": {},
   "outputs": [
    {
     "name": "stdout",
     "output_type": "stream",
     "text": [
      "(126, 6)\n",
      "(501, 6)\n"
     ]
    }
   ],
   "source": [
    "y = df['W%']\n",
    "X = df.drop(['Team', 'Season', 'W%'], axis=1)\n",
    "\n",
    "X_train, X_test, y_train, y_test = train_test_split(X, y, test_size=0.2, random_state=42)\n",
    "\n",
    "scaler = MinMaxScaler()\n",
    "scaled_X_train = pd.DataFrame(scaler.fit_transform(X_train), columns=X_train.columns)\n",
    "scaled_X_test = pd.DataFrame(scaler.fit_transform(X_test), columns=X_test.columns)\n",
    "\n",
    "print(scaled_X_test.shape)\n",
    "print(scaled_X_train.shape)"
   ]
  },
  {
   "cell_type": "markdown",
   "id": "ade1877f",
   "metadata": {},
   "source": [
    "# Linear Regression and RandomForest Regressor"
   ]
  },
  {
   "cell_type": "code",
   "execution_count": 6,
   "id": "07ebe7d2",
   "metadata": {},
   "outputs": [
    {
     "name": "stdout",
     "output_type": "stream",
     "text": [
      "Linear regression performance: -0.359\n",
      "[ 0.27336967 -0.68754151  0.4050362  -0.1779255   0.14634934 -0.01076841]\n"
     ]
    }
   ],
   "source": [
    "lr = LinearRegression(fit_intercept=True)\n",
    "lr.fit(scaled_X_train, y_train)\n",
    "y_pred = lr.predict(scaled_X_test)\n",
    "\n",
    "print('Linear regression performance: %.3f' % lr.score(scaled_X_test, y_test))\n",
    "print(lr.coef_)"
   ]
  },
  {
   "cell_type": "code",
   "execution_count": 7,
   "id": "1ee427dd",
   "metadata": {},
   "outputs": [
    {
     "name": "stdout",
     "output_type": "stream",
     "text": [
      "RF Regression performance: 0.217\n"
     ]
    }
   ],
   "source": [
    "from sklearn.ensemble import RandomForestRegressor\n",
    "rf = RandomForestRegressor()\n",
    "rf.fit(scaled_X_train, y_train)\n",
    "y_pred = rf.predict(scaled_X_test)\n",
    "\n",
    "print('RF Regression performance: %.3f' % rf.score(scaled_X_test, y_test))"
   ]
  },
  {
   "cell_type": "markdown",
   "id": "489e8c10",
   "metadata": {},
   "source": [
    "Performance metrics is R2 score - a small positive number indicates that the model does not perform well. This is likely due to: \n",
    "* Insufficient data - there is less than 1000 entries. \n",
    "* Insufficient features - the six selected features are not enough to pick up a trend. \n",
    "* Hyperparameter tuning - this will improve model performance, although at this stage it will not improve enough to make significant change."
   ]
  },
  {
   "cell_type": "code",
   "execution_count": null,
   "id": "bd96074c",
   "metadata": {},
   "outputs": [],
   "source": []
  }
 ],
 "metadata": {
  "kernelspec": {
   "display_name": "Python 3 (ipykernel)",
   "language": "python",
   "name": "python3"
  },
  "language_info": {
   "codemirror_mode": {
    "name": "ipython",
    "version": 3
   },
   "file_extension": ".py",
   "mimetype": "text/x-python",
   "name": "python",
   "nbconvert_exporter": "python",
   "pygments_lexer": "ipython3",
   "version": "3.9.12"
  }
 },
 "nbformat": 4,
 "nbformat_minor": 5
}
