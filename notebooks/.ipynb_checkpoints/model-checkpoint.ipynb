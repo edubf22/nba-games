{
 "cells": [
  {
   "cell_type": "markdown",
   "id": "a106c2fa",
   "metadata": {},
   "source": [
    "# Import Libraries"
   ]
  },
  {
   "cell_type": "code",
   "execution_count": 138,
   "id": "36083a4d",
   "metadata": {},
   "outputs": [],
   "source": [
    "import pandas as pd\n",
    "import matplotlib.pyplot as plt\n",
    "import seaborn as sns\n",
    "%matplotlib inline\n",
    "%config InlineBackend.figure_format='retina'\n",
    "sns.set_theme(context='talk')\n",
    "\n",
    "from sklearn.preprocessing import MinMaxScaler, PolynomialFeatures\n",
    "from sklearn.model_selection import train_test_split, GridSearchCV\n",
    "from sklearn.linear_model import LogisticRegression\n",
    "from sklearn.ensemble import RandomForestClassifier\n",
    "from sklearn.svm import SVC\n",
    "from sklearn.metrics import classification_report\n",
    "from xgboost import XGBClassifier"
   ]
  },
  {
   "cell_type": "markdown",
   "id": "d077226a",
   "metadata": {},
   "source": [
    "# Load the Dataset"
   ]
  },
  {
   "cell_type": "code",
   "execution_count": 61,
   "id": "0794f44f",
   "metadata": {},
   "outputs": [
    {
     "name": "stdout",
     "output_type": "stream",
     "text": [
      "(10749, 28)\n"
     ]
    },
    {
     "data": {
      "text/html": [
       "<div>\n",
       "<style scoped>\n",
       "    .dataframe tbody tr th:only-of-type {\n",
       "        vertical-align: middle;\n",
       "    }\n",
       "\n",
       "    .dataframe tbody tr th {\n",
       "        vertical-align: top;\n",
       "    }\n",
       "\n",
       "    .dataframe thead th {\n",
       "        text-align: right;\n",
       "    }\n",
       "</style>\n",
       "<table border=\"1\" class=\"dataframe\">\n",
       "  <thead>\n",
       "    <tr style=\"text-align: right;\">\n",
       "      <th></th>\n",
       "      <th>Season</th>\n",
       "      <th>H_win</th>\n",
       "      <th>FG%_V</th>\n",
       "      <th>3P%_V</th>\n",
       "      <th>2P%_V</th>\n",
       "      <th>FT%_V</th>\n",
       "      <th>ORB_V</th>\n",
       "      <th>DRB_V</th>\n",
       "      <th>TRB_V</th>\n",
       "      <th>AST_V</th>\n",
       "      <th>...</th>\n",
       "      <th>FT%_H</th>\n",
       "      <th>ORB_H</th>\n",
       "      <th>DRB_H</th>\n",
       "      <th>TRB_H</th>\n",
       "      <th>AST_H</th>\n",
       "      <th>STL_H</th>\n",
       "      <th>BLK_H</th>\n",
       "      <th>TOV_H</th>\n",
       "      <th>PF_H</th>\n",
       "      <th>PTS_H</th>\n",
       "    </tr>\n",
       "  </thead>\n",
       "  <tbody>\n",
       "    <tr>\n",
       "      <th>0</th>\n",
       "      <td>2013</td>\n",
       "      <td>1</td>\n",
       "      <td>0.445</td>\n",
       "      <td>0.353</td>\n",
       "      <td>0.474</td>\n",
       "      <td>0.763</td>\n",
       "      <td>9.7</td>\n",
       "      <td>32.4</td>\n",
       "      <td>42.0</td>\n",
       "      <td>21.0</td>\n",
       "      <td>...</td>\n",
       "      <td>0.779</td>\n",
       "      <td>10.2</td>\n",
       "      <td>34.5</td>\n",
       "      <td>44.7</td>\n",
       "      <td>20.1</td>\n",
       "      <td>6.7</td>\n",
       "      <td>5.4</td>\n",
       "      <td>15.1</td>\n",
       "      <td>20.4</td>\n",
       "      <td>96.7</td>\n",
       "    </tr>\n",
       "    <tr>\n",
       "      <th>1</th>\n",
       "      <td>2013</td>\n",
       "      <td>1</td>\n",
       "      <td>0.432</td>\n",
       "      <td>0.348</td>\n",
       "      <td>0.456</td>\n",
       "      <td>0.779</td>\n",
       "      <td>11.4</td>\n",
       "      <td>32.7</td>\n",
       "      <td>44.1</td>\n",
       "      <td>22.7</td>\n",
       "      <td>...</td>\n",
       "      <td>0.760</td>\n",
       "      <td>7.6</td>\n",
       "      <td>29.2</td>\n",
       "      <td>36.9</td>\n",
       "      <td>22.5</td>\n",
       "      <td>8.9</td>\n",
       "      <td>4.5</td>\n",
       "      <td>14.8</td>\n",
       "      <td>19.5</td>\n",
       "      <td>102.2</td>\n",
       "    </tr>\n",
       "    <tr>\n",
       "      <th>2</th>\n",
       "      <td>2013</td>\n",
       "      <td>1</td>\n",
       "      <td>0.474</td>\n",
       "      <td>0.352</td>\n",
       "      <td>0.525</td>\n",
       "      <td>0.730</td>\n",
       "      <td>10.5</td>\n",
       "      <td>32.5</td>\n",
       "      <td>43.0</td>\n",
       "      <td>24.6</td>\n",
       "      <td>...</td>\n",
       "      <td>0.757</td>\n",
       "      <td>9.1</td>\n",
       "      <td>32.0</td>\n",
       "      <td>41.0</td>\n",
       "      <td>24.5</td>\n",
       "      <td>7.5</td>\n",
       "      <td>5.4</td>\n",
       "      <td>15.1</td>\n",
       "      <td>19.8</td>\n",
       "      <td>103.0</td>\n",
       "    </tr>\n",
       "    <tr>\n",
       "      <th>3</th>\n",
       "      <td>2013</td>\n",
       "      <td>1</td>\n",
       "      <td>0.459</td>\n",
       "      <td>0.369</td>\n",
       "      <td>0.497</td>\n",
       "      <td>0.753</td>\n",
       "      <td>8.8</td>\n",
       "      <td>29.4</td>\n",
       "      <td>38.1</td>\n",
       "      <td>20.9</td>\n",
       "      <td>...</td>\n",
       "      <td>0.751</td>\n",
       "      <td>12.1</td>\n",
       "      <td>32.1</td>\n",
       "      <td>44.1</td>\n",
       "      <td>21.2</td>\n",
       "      <td>7.1</td>\n",
       "      <td>3.7</td>\n",
       "      <td>14.2</td>\n",
       "      <td>20.0</td>\n",
       "      <td>98.2</td>\n",
       "    </tr>\n",
       "    <tr>\n",
       "      <th>4</th>\n",
       "      <td>2013</td>\n",
       "      <td>1</td>\n",
       "      <td>0.435</td>\n",
       "      <td>0.333</td>\n",
       "      <td>0.470</td>\n",
       "      <td>0.777</td>\n",
       "      <td>12.0</td>\n",
       "      <td>30.5</td>\n",
       "      <td>42.5</td>\n",
       "      <td>21.0</td>\n",
       "      <td>...</td>\n",
       "      <td>0.782</td>\n",
       "      <td>11.4</td>\n",
       "      <td>31.1</td>\n",
       "      <td>42.5</td>\n",
       "      <td>21.2</td>\n",
       "      <td>7.0</td>\n",
       "      <td>4.2</td>\n",
       "      <td>14.1</td>\n",
       "      <td>23.0</td>\n",
       "      <td>101.3</td>\n",
       "    </tr>\n",
       "  </tbody>\n",
       "</table>\n",
       "<p>5 rows × 28 columns</p>\n",
       "</div>"
      ],
      "text/plain": [
       "   Season  H_win  FG%_V  3P%_V  2P%_V  FT%_V  ORB_V  DRB_V  TRB_V  AST_V  ...  \\\n",
       "0    2013      1  0.445  0.353  0.474  0.763    9.7   32.4   42.0   21.0  ...   \n",
       "1    2013      1  0.432  0.348  0.456  0.779   11.4   32.7   44.1   22.7  ...   \n",
       "2    2013      1  0.474  0.352  0.525  0.730   10.5   32.5   43.0   24.6  ...   \n",
       "3    2013      1  0.459  0.369  0.497  0.753    8.8   29.4   38.1   20.9  ...   \n",
       "4    2013      1  0.435  0.333  0.470  0.777   12.0   30.5   42.5   21.0  ...   \n",
       "\n",
       "   FT%_H  ORB_H  DRB_H  TRB_H  AST_H  STL_H  BLK_H  TOV_H  PF_H  PTS_H  \n",
       "0  0.779   10.2   34.5   44.7   20.1    6.7    5.4   15.1  20.4   96.7  \n",
       "1  0.760    7.6   29.2   36.9   22.5    8.9    4.5   14.8  19.5  102.2  \n",
       "2  0.757    9.1   32.0   41.0   24.5    7.5    5.4   15.1  19.8  103.0  \n",
       "3  0.751   12.1   32.1   44.1   21.2    7.1    3.7   14.2  20.0   98.2  \n",
       "4  0.782   11.4   31.1   42.5   21.2    7.0    4.2   14.1  23.0  101.3  \n",
       "\n",
       "[5 rows x 28 columns]"
      ]
     },
     "execution_count": 61,
     "metadata": {},
     "output_type": "execute_result"
    }
   ],
   "source": [
    "# Load the dataset\n",
    "df = pd.read_csv('../data/nba_data.csv')\n",
    "print(df.shape)\n",
    "df.head()"
   ]
  },
  {
   "cell_type": "markdown",
   "id": "6e984dbc",
   "metadata": {},
   "source": [
    "# Split and Scale the Dataset"
   ]
  },
  {
   "cell_type": "code",
   "execution_count": 62,
   "id": "2275fda2",
   "metadata": {},
   "outputs": [],
   "source": [
    "# Separate features and labels and split dataset\n",
    "y = df['H_win']\n",
    "X = df.drop(['H_win', 'Season'], axis=1)\n",
    "\n",
    "X_train, X_test, y_train, y_test = train_test_split(X, y, test_size=0.3, random_state=42)"
   ]
  },
  {
   "cell_type": "code",
   "execution_count": 63,
   "id": "f5e3c7d7",
   "metadata": {},
   "outputs": [
    {
     "name": "stdout",
     "output_type": "stream",
     "text": [
      "(7524, 26)\n",
      "(3225, 26)\n"
     ]
    }
   ],
   "source": [
    "print(X_train.shape)\n",
    "print(X_test.shape)"
   ]
  },
  {
   "cell_type": "code",
   "execution_count": 64,
   "id": "908e72cf",
   "metadata": {},
   "outputs": [
    {
     "data": {
      "text/html": [
       "<div>\n",
       "<style scoped>\n",
       "    .dataframe tbody tr th:only-of-type {\n",
       "        vertical-align: middle;\n",
       "    }\n",
       "\n",
       "    .dataframe tbody tr th {\n",
       "        vertical-align: top;\n",
       "    }\n",
       "\n",
       "    .dataframe thead th {\n",
       "        text-align: right;\n",
       "    }\n",
       "</style>\n",
       "<table border=\"1\" class=\"dataframe\">\n",
       "  <thead>\n",
       "    <tr style=\"text-align: right;\">\n",
       "      <th></th>\n",
       "      <th>FG%_V</th>\n",
       "      <th>3P%_V</th>\n",
       "      <th>2P%_V</th>\n",
       "      <th>FT%_V</th>\n",
       "      <th>ORB_V</th>\n",
       "      <th>DRB_V</th>\n",
       "      <th>TRB_V</th>\n",
       "      <th>AST_V</th>\n",
       "      <th>STL_V</th>\n",
       "      <th>BLK_V</th>\n",
       "      <th>...</th>\n",
       "      <th>FT%_H</th>\n",
       "      <th>ORB_H</th>\n",
       "      <th>DRB_H</th>\n",
       "      <th>TRB_H</th>\n",
       "      <th>AST_H</th>\n",
       "      <th>STL_H</th>\n",
       "      <th>BLK_H</th>\n",
       "      <th>TOV_H</th>\n",
       "      <th>PF_H</th>\n",
       "      <th>PTS_H</th>\n",
       "    </tr>\n",
       "  </thead>\n",
       "  <tbody>\n",
       "    <tr>\n",
       "      <th>0</th>\n",
       "      <td>0.326316</td>\n",
       "      <td>0.317308</td>\n",
       "      <td>0.246032</td>\n",
       "      <td>0.000000</td>\n",
       "      <td>0.700000</td>\n",
       "      <td>0.361538</td>\n",
       "      <td>0.635135</td>\n",
       "      <td>0.112903</td>\n",
       "      <td>0.333333</td>\n",
       "      <td>0.254902</td>\n",
       "      <td>...</td>\n",
       "      <td>0.520468</td>\n",
       "      <td>0.414286</td>\n",
       "      <td>0.207692</td>\n",
       "      <td>0.371622</td>\n",
       "      <td>0.346774</td>\n",
       "      <td>0.466667</td>\n",
       "      <td>0.313725</td>\n",
       "      <td>0.560606</td>\n",
       "      <td>0.170732</td>\n",
       "      <td>0.237589</td>\n",
       "    </tr>\n",
       "    <tr>\n",
       "      <th>1</th>\n",
       "      <td>0.642105</td>\n",
       "      <td>0.413462</td>\n",
       "      <td>0.730159</td>\n",
       "      <td>0.538012</td>\n",
       "      <td>0.371429</td>\n",
       "      <td>0.369231</td>\n",
       "      <td>0.493243</td>\n",
       "      <td>0.580645</td>\n",
       "      <td>0.355556</td>\n",
       "      <td>0.352941</td>\n",
       "      <td>...</td>\n",
       "      <td>0.532164</td>\n",
       "      <td>0.828571</td>\n",
       "      <td>0.215385</td>\n",
       "      <td>0.567568</td>\n",
       "      <td>0.330645</td>\n",
       "      <td>0.777778</td>\n",
       "      <td>0.431373</td>\n",
       "      <td>0.212121</td>\n",
       "      <td>0.365854</td>\n",
       "      <td>0.620567</td>\n",
       "    </tr>\n",
       "    <tr>\n",
       "      <th>2</th>\n",
       "      <td>0.526316</td>\n",
       "      <td>0.259615</td>\n",
       "      <td>0.285714</td>\n",
       "      <td>0.614035</td>\n",
       "      <td>0.400000</td>\n",
       "      <td>0.223077</td>\n",
       "      <td>0.385135</td>\n",
       "      <td>0.298387</td>\n",
       "      <td>0.666667</td>\n",
       "      <td>0.352941</td>\n",
       "      <td>...</td>\n",
       "      <td>0.204678</td>\n",
       "      <td>0.742857</td>\n",
       "      <td>0.223077</td>\n",
       "      <td>0.540541</td>\n",
       "      <td>0.290323</td>\n",
       "      <td>0.466667</td>\n",
       "      <td>0.450980</td>\n",
       "      <td>0.348485</td>\n",
       "      <td>0.292683</td>\n",
       "      <td>0.234043</td>\n",
       "    </tr>\n",
       "    <tr>\n",
       "      <th>3</th>\n",
       "      <td>0.673684</td>\n",
       "      <td>0.442308</td>\n",
       "      <td>0.634921</td>\n",
       "      <td>0.257310</td>\n",
       "      <td>0.514286</td>\n",
       "      <td>0.376923</td>\n",
       "      <td>0.567568</td>\n",
       "      <td>0.274194</td>\n",
       "      <td>0.466667</td>\n",
       "      <td>0.627451</td>\n",
       "      <td>...</td>\n",
       "      <td>0.666667</td>\n",
       "      <td>0.542857</td>\n",
       "      <td>0.146154</td>\n",
       "      <td>0.378378</td>\n",
       "      <td>0.258065</td>\n",
       "      <td>0.333333</td>\n",
       "      <td>0.352941</td>\n",
       "      <td>0.454545</td>\n",
       "      <td>0.780488</td>\n",
       "      <td>0.333333</td>\n",
       "    </tr>\n",
       "    <tr>\n",
       "      <th>4</th>\n",
       "      <td>0.442105</td>\n",
       "      <td>0.192308</td>\n",
       "      <td>0.333333</td>\n",
       "      <td>0.631579</td>\n",
       "      <td>0.614286</td>\n",
       "      <td>0.300000</td>\n",
       "      <td>0.547297</td>\n",
       "      <td>0.129032</td>\n",
       "      <td>0.600000</td>\n",
       "      <td>0.490196</td>\n",
       "      <td>...</td>\n",
       "      <td>0.298246</td>\n",
       "      <td>0.500000</td>\n",
       "      <td>0.415385</td>\n",
       "      <td>0.594595</td>\n",
       "      <td>0.250000</td>\n",
       "      <td>0.333333</td>\n",
       "      <td>0.274510</td>\n",
       "      <td>0.121212</td>\n",
       "      <td>0.158537</td>\n",
       "      <td>0.333333</td>\n",
       "    </tr>\n",
       "  </tbody>\n",
       "</table>\n",
       "<p>5 rows × 26 columns</p>\n",
       "</div>"
      ],
      "text/plain": [
       "      FG%_V     3P%_V     2P%_V     FT%_V     ORB_V     DRB_V     TRB_V  \\\n",
       "0  0.326316  0.317308  0.246032  0.000000  0.700000  0.361538  0.635135   \n",
       "1  0.642105  0.413462  0.730159  0.538012  0.371429  0.369231  0.493243   \n",
       "2  0.526316  0.259615  0.285714  0.614035  0.400000  0.223077  0.385135   \n",
       "3  0.673684  0.442308  0.634921  0.257310  0.514286  0.376923  0.567568   \n",
       "4  0.442105  0.192308  0.333333  0.631579  0.614286  0.300000  0.547297   \n",
       "\n",
       "      AST_V     STL_V     BLK_V  ...     FT%_H     ORB_H     DRB_H     TRB_H  \\\n",
       "0  0.112903  0.333333  0.254902  ...  0.520468  0.414286  0.207692  0.371622   \n",
       "1  0.580645  0.355556  0.352941  ...  0.532164  0.828571  0.215385  0.567568   \n",
       "2  0.298387  0.666667  0.352941  ...  0.204678  0.742857  0.223077  0.540541   \n",
       "3  0.274194  0.466667  0.627451  ...  0.666667  0.542857  0.146154  0.378378   \n",
       "4  0.129032  0.600000  0.490196  ...  0.298246  0.500000  0.415385  0.594595   \n",
       "\n",
       "      AST_H     STL_H     BLK_H     TOV_H      PF_H     PTS_H  \n",
       "0  0.346774  0.466667  0.313725  0.560606  0.170732  0.237589  \n",
       "1  0.330645  0.777778  0.431373  0.212121  0.365854  0.620567  \n",
       "2  0.290323  0.466667  0.450980  0.348485  0.292683  0.234043  \n",
       "3  0.258065  0.333333  0.352941  0.454545  0.780488  0.333333  \n",
       "4  0.250000  0.333333  0.274510  0.121212  0.158537  0.333333  \n",
       "\n",
       "[5 rows x 26 columns]"
      ]
     },
     "execution_count": 64,
     "metadata": {},
     "output_type": "execute_result"
    }
   ],
   "source": [
    "# Scaling\n",
    "scaler = MinMaxScaler()\n",
    "scaled_X_train = pd.DataFrame(scaler.fit_transform(X_train), columns=X_train.columns)\n",
    "scaled_X_train.head()"
   ]
  },
  {
   "cell_type": "code",
   "execution_count": 78,
   "id": "8c9618e3",
   "metadata": {},
   "outputs": [
    {
     "data": {
      "text/html": [
       "<div>\n",
       "<style scoped>\n",
       "    .dataframe tbody tr th:only-of-type {\n",
       "        vertical-align: middle;\n",
       "    }\n",
       "\n",
       "    .dataframe tbody tr th {\n",
       "        vertical-align: top;\n",
       "    }\n",
       "\n",
       "    .dataframe thead th {\n",
       "        text-align: right;\n",
       "    }\n",
       "</style>\n",
       "<table border=\"1\" class=\"dataframe\">\n",
       "  <thead>\n",
       "    <tr style=\"text-align: right;\">\n",
       "      <th></th>\n",
       "      <th>FG%_V</th>\n",
       "      <th>3P%_V</th>\n",
       "      <th>2P%_V</th>\n",
       "      <th>FT%_V</th>\n",
       "      <th>ORB_V</th>\n",
       "      <th>DRB_V</th>\n",
       "      <th>TRB_V</th>\n",
       "      <th>AST_V</th>\n",
       "      <th>STL_V</th>\n",
       "      <th>BLK_V</th>\n",
       "      <th>...</th>\n",
       "      <th>FT%_H</th>\n",
       "      <th>ORB_H</th>\n",
       "      <th>DRB_H</th>\n",
       "      <th>TRB_H</th>\n",
       "      <th>AST_H</th>\n",
       "      <th>STL_H</th>\n",
       "      <th>BLK_H</th>\n",
       "      <th>TOV_H</th>\n",
       "      <th>PF_H</th>\n",
       "      <th>PTS_H</th>\n",
       "    </tr>\n",
       "  </thead>\n",
       "  <tbody>\n",
       "    <tr>\n",
       "      <th>0</th>\n",
       "      <td>0.284211</td>\n",
       "      <td>0.201923</td>\n",
       "      <td>0.166667</td>\n",
       "      <td>0.637427</td>\n",
       "      <td>0.628571</td>\n",
       "      <td>0.100000</td>\n",
       "      <td>0.378378</td>\n",
       "      <td>0.241935</td>\n",
       "      <td>0.355556</td>\n",
       "      <td>0.352941</td>\n",
       "      <td>...</td>\n",
       "      <td>0.543860</td>\n",
       "      <td>0.428571</td>\n",
       "      <td>0.038462</td>\n",
       "      <td>0.229730</td>\n",
       "      <td>0.161290</td>\n",
       "      <td>0.488889</td>\n",
       "      <td>0.411765</td>\n",
       "      <td>0.287879</td>\n",
       "      <td>0.670732</td>\n",
       "      <td>0.237589</td>\n",
       "    </tr>\n",
       "    <tr>\n",
       "      <th>1</th>\n",
       "      <td>0.621053</td>\n",
       "      <td>0.355769</td>\n",
       "      <td>0.460317</td>\n",
       "      <td>0.766082</td>\n",
       "      <td>0.542857</td>\n",
       "      <td>0.138462</td>\n",
       "      <td>0.371622</td>\n",
       "      <td>0.459677</td>\n",
       "      <td>0.555556</td>\n",
       "      <td>0.411765</td>\n",
       "      <td>...</td>\n",
       "      <td>0.461988</td>\n",
       "      <td>0.257143</td>\n",
       "      <td>0.353846</td>\n",
       "      <td>0.425676</td>\n",
       "      <td>0.169355</td>\n",
       "      <td>0.266667</td>\n",
       "      <td>0.509804</td>\n",
       "      <td>0.378788</td>\n",
       "      <td>0.268293</td>\n",
       "      <td>0.312057</td>\n",
       "    </tr>\n",
       "    <tr>\n",
       "      <th>2</th>\n",
       "      <td>0.715789</td>\n",
       "      <td>0.490385</td>\n",
       "      <td>0.634921</td>\n",
       "      <td>0.695906</td>\n",
       "      <td>0.157143</td>\n",
       "      <td>0.376923</td>\n",
       "      <td>0.398649</td>\n",
       "      <td>0.637097</td>\n",
       "      <td>0.422222</td>\n",
       "      <td>0.549020</td>\n",
       "      <td>...</td>\n",
       "      <td>0.526316</td>\n",
       "      <td>0.457143</td>\n",
       "      <td>0.323077</td>\n",
       "      <td>0.493243</td>\n",
       "      <td>0.411290</td>\n",
       "      <td>0.311111</td>\n",
       "      <td>0.156863</td>\n",
       "      <td>0.818182</td>\n",
       "      <td>0.207317</td>\n",
       "      <td>0.531915</td>\n",
       "    </tr>\n",
       "  </tbody>\n",
       "</table>\n",
       "<p>3 rows × 26 columns</p>\n",
       "</div>"
      ],
      "text/plain": [
       "      FG%_V     3P%_V     2P%_V     FT%_V     ORB_V     DRB_V     TRB_V  \\\n",
       "0  0.284211  0.201923  0.166667  0.637427  0.628571  0.100000  0.378378   \n",
       "1  0.621053  0.355769  0.460317  0.766082  0.542857  0.138462  0.371622   \n",
       "2  0.715789  0.490385  0.634921  0.695906  0.157143  0.376923  0.398649   \n",
       "\n",
       "      AST_V     STL_V     BLK_V  ...     FT%_H     ORB_H     DRB_H     TRB_H  \\\n",
       "0  0.241935  0.355556  0.352941  ...  0.543860  0.428571  0.038462  0.229730   \n",
       "1  0.459677  0.555556  0.411765  ...  0.461988  0.257143  0.353846  0.425676   \n",
       "2  0.637097  0.422222  0.549020  ...  0.526316  0.457143  0.323077  0.493243   \n",
       "\n",
       "      AST_H     STL_H     BLK_H     TOV_H      PF_H     PTS_H  \n",
       "0  0.161290  0.488889  0.411765  0.287879  0.670732  0.237589  \n",
       "1  0.169355  0.266667  0.509804  0.378788  0.268293  0.312057  \n",
       "2  0.411290  0.311111  0.156863  0.818182  0.207317  0.531915  \n",
       "\n",
       "[3 rows x 26 columns]"
      ]
     },
     "execution_count": 78,
     "metadata": {},
     "output_type": "execute_result"
    }
   ],
   "source": [
    "# Scale the test data \n",
    "scaled_X_test = pd.DataFrame(scaler.fit_transform(X_test), columns=X_test.columns)\n",
    "scaled_X_test.head(3)"
   ]
  },
  {
   "cell_type": "markdown",
   "id": "50132b2b",
   "metadata": {},
   "source": [
    "# Logistic Regression"
   ]
  },
  {
   "cell_type": "code",
   "execution_count": 91,
   "id": "3c7d402f",
   "metadata": {},
   "outputs": [
    {
     "name": "stderr",
     "output_type": "stream",
     "text": [
      "/home/eduardo/anaconda3/lib/python3.9/site-packages/sklearn/linear_model/_logistic.py:444: ConvergenceWarning: lbfgs failed to converge (status=1):\n",
      "STOP: TOTAL NO. of ITERATIONS REACHED LIMIT.\n",
      "\n",
      "Increase the number of iterations (max_iter) or scale the data as shown in:\n",
      "    https://scikit-learn.org/stable/modules/preprocessing.html\n",
      "Please also refer to the documentation for alternative solver options:\n",
      "    https://scikit-learn.org/stable/modules/linear_model.html#logistic-regression\n",
      "  n_iter_i = _check_optimize_result(\n"
     ]
    },
    {
     "data": {
      "text/html": [
       "<style>#sk-container-id-20 {color: black;background-color: white;}#sk-container-id-20 pre{padding: 0;}#sk-container-id-20 div.sk-toggleable {background-color: white;}#sk-container-id-20 label.sk-toggleable__label {cursor: pointer;display: block;width: 100%;margin-bottom: 0;padding: 0.3em;box-sizing: border-box;text-align: center;}#sk-container-id-20 label.sk-toggleable__label-arrow:before {content: \"▸\";float: left;margin-right: 0.25em;color: #696969;}#sk-container-id-20 label.sk-toggleable__label-arrow:hover:before {color: black;}#sk-container-id-20 div.sk-estimator:hover label.sk-toggleable__label-arrow:before {color: black;}#sk-container-id-20 div.sk-toggleable__content {max-height: 0;max-width: 0;overflow: hidden;text-align: left;background-color: #f0f8ff;}#sk-container-id-20 div.sk-toggleable__content pre {margin: 0.2em;color: black;border-radius: 0.25em;background-color: #f0f8ff;}#sk-container-id-20 input.sk-toggleable__control:checked~div.sk-toggleable__content {max-height: 200px;max-width: 100%;overflow: auto;}#sk-container-id-20 input.sk-toggleable__control:checked~label.sk-toggleable__label-arrow:before {content: \"▾\";}#sk-container-id-20 div.sk-estimator input.sk-toggleable__control:checked~label.sk-toggleable__label {background-color: #d4ebff;}#sk-container-id-20 div.sk-label input.sk-toggleable__control:checked~label.sk-toggleable__label {background-color: #d4ebff;}#sk-container-id-20 input.sk-hidden--visually {border: 0;clip: rect(1px 1px 1px 1px);clip: rect(1px, 1px, 1px, 1px);height: 1px;margin: -1px;overflow: hidden;padding: 0;position: absolute;width: 1px;}#sk-container-id-20 div.sk-estimator {font-family: monospace;background-color: #f0f8ff;border: 1px dotted black;border-radius: 0.25em;box-sizing: border-box;margin-bottom: 0.5em;}#sk-container-id-20 div.sk-estimator:hover {background-color: #d4ebff;}#sk-container-id-20 div.sk-parallel-item::after {content: \"\";width: 100%;border-bottom: 1px solid gray;flex-grow: 1;}#sk-container-id-20 div.sk-label:hover label.sk-toggleable__label {background-color: #d4ebff;}#sk-container-id-20 div.sk-serial::before {content: \"\";position: absolute;border-left: 1px solid gray;box-sizing: border-box;top: 0;bottom: 0;left: 50%;z-index: 0;}#sk-container-id-20 div.sk-serial {display: flex;flex-direction: column;align-items: center;background-color: white;padding-right: 0.2em;padding-left: 0.2em;position: relative;}#sk-container-id-20 div.sk-item {position: relative;z-index: 1;}#sk-container-id-20 div.sk-parallel {display: flex;align-items: stretch;justify-content: center;background-color: white;position: relative;}#sk-container-id-20 div.sk-item::before, #sk-container-id-20 div.sk-parallel-item::before {content: \"\";position: absolute;border-left: 1px solid gray;box-sizing: border-box;top: 0;bottom: 0;left: 50%;z-index: -1;}#sk-container-id-20 div.sk-parallel-item {display: flex;flex-direction: column;z-index: 1;position: relative;background-color: white;}#sk-container-id-20 div.sk-parallel-item:first-child::after {align-self: flex-end;width: 50%;}#sk-container-id-20 div.sk-parallel-item:last-child::after {align-self: flex-start;width: 50%;}#sk-container-id-20 div.sk-parallel-item:only-child::after {width: 0;}#sk-container-id-20 div.sk-dashed-wrapped {border: 1px dashed gray;margin: 0 0.4em 0.5em 0.4em;box-sizing: border-box;padding-bottom: 0.4em;background-color: white;}#sk-container-id-20 div.sk-label label {font-family: monospace;font-weight: bold;display: inline-block;line-height: 1.2em;}#sk-container-id-20 div.sk-label-container {text-align: center;}#sk-container-id-20 div.sk-container {/* jupyter's `normalize.less` sets `[hidden] { display: none; }` but bootstrap.min.css set `[hidden] { display: none !important; }` so we also need the `!important` here to be able to override the default hidden behavior on the sphinx rendered scikit-learn.org. See: https://github.com/scikit-learn/scikit-learn/issues/21755 */display: inline-block !important;position: relative;}#sk-container-id-20 div.sk-text-repr-fallback {display: none;}</style><div id=\"sk-container-id-20\" class=\"sk-top-container\"><div class=\"sk-text-repr-fallback\"><pre>LogisticRegression()</pre><b>In a Jupyter environment, please rerun this cell to show the HTML representation or trust the notebook. <br />On GitHub, the HTML representation is unable to render, please try loading this page with nbviewer.org.</b></div><div class=\"sk-container\" hidden><div class=\"sk-item\"><div class=\"sk-estimator sk-toggleable\"><input class=\"sk-toggleable__control sk-hidden--visually\" id=\"sk-estimator-id-48\" type=\"checkbox\" checked><label for=\"sk-estimator-id-48\" class=\"sk-toggleable__label sk-toggleable__label-arrow\">LogisticRegression</label><div class=\"sk-toggleable__content\"><pre>LogisticRegression()</pre></div></div></div></div></div>"
      ],
      "text/plain": [
       "LogisticRegression()"
      ]
     },
     "execution_count": 91,
     "metadata": {},
     "output_type": "execute_result"
    }
   ],
   "source": [
    "# Train the model\n",
    "lr = LogisticRegression()\n",
    "\n",
    "# Fit data in the model\n",
    "lr.fit(scaled_X_train, y_train)"
   ]
  },
  {
   "cell_type": "code",
   "execution_count": 92,
   "id": "e04d00b0",
   "metadata": {},
   "outputs": [],
   "source": [
    "# Make predictions\n",
    "y_pred = lr.predict(scaled_X_test)"
   ]
  },
  {
   "cell_type": "code",
   "execution_count": 105,
   "id": "88a2fcef",
   "metadata": {},
   "outputs": [
    {
     "name": "stdout",
     "output_type": "stream",
     "text": [
      "LR model score: 0.657\n",
      "              precision    recall  f1-score   support\n",
      "\n",
      "           0       0.63      0.51      0.56      1404\n",
      "           1       0.67      0.77      0.72      1821\n",
      "\n",
      "    accuracy                           0.66      3225\n",
      "   macro avg       0.65      0.64      0.64      3225\n",
      "weighted avg       0.65      0.66      0.65      3225\n",
      "\n"
     ]
    }
   ],
   "source": [
    "# Check performance\n",
    "print(\"LR model score: %.3f\" % lr.score(scaled_X_test, y_test))\n",
    "\n",
    "print(classification_report(y_test, y_pred))"
   ]
  },
  {
   "cell_type": "code",
   "execution_count": 139,
   "id": "b7e555ed",
   "metadata": {},
   "outputs": [],
   "source": [
    "# Optimization: define params_grid dictionary\n",
    "\n",
    "# add different tolerance, not good practice to max out n of iterations\n",
    "params_grid_lr = {\n",
    "    'penalty': ['l1', 'l2'],\n",
    "    'tol': [0.0001, 0.001, 0.01],\n",
    "    'C': [1.0, 2, 3, 4, 5, 6],\n",
    "    'solver': ['liblinear', 'saga']\n",
    "}"
   ]
  },
  {
   "cell_type": "code",
   "execution_count": 140,
   "id": "00dd5d6c",
   "metadata": {},
   "outputs": [
    {
     "name": "stderr",
     "output_type": "stream",
     "text": [
      "/home/eduardo/anaconda3/lib/python3.9/site-packages/scipy/__init__.py:146: UserWarning: A NumPy version >=1.16.5 and <1.23.0 is required for this version of SciPy (detected version 1.23.5\n",
      "  warnings.warn(f\"A NumPy version >={np_minversion} and <{np_maxversion}\"\n",
      "/home/eduardo/anaconda3/lib/python3.9/site-packages/scipy/__init__.py:146: UserWarning: A NumPy version >=1.16.5 and <1.23.0 is required for this version of SciPy (detected version 1.23.5\n",
      "  warnings.warn(f\"A NumPy version >={np_minversion} and <{np_maxversion}\"\n",
      "/home/eduardo/anaconda3/lib/python3.9/site-packages/scipy/__init__.py:146: UserWarning: A NumPy version >=1.16.5 and <1.23.0 is required for this version of SciPy (detected version 1.23.5\n",
      "  warnings.warn(f\"A NumPy version >={np_minversion} and <{np_maxversion}\"\n",
      "/home/eduardo/anaconda3/lib/python3.9/site-packages/scipy/__init__.py:146: UserWarning: A NumPy version >=1.16.5 and <1.23.0 is required for this version of SciPy (detected version 1.23.5\n",
      "  warnings.warn(f\"A NumPy version >={np_minversion} and <{np_maxversion}\"\n",
      "/home/eduardo/anaconda3/lib/python3.9/site-packages/scipy/__init__.py:146: UserWarning: A NumPy version >=1.16.5 and <1.23.0 is required for this version of SciPy (detected version 1.23.5\n",
      "  warnings.warn(f\"A NumPy version >={np_minversion} and <{np_maxversion}\"\n",
      "/home/eduardo/anaconda3/lib/python3.9/site-packages/scipy/__init__.py:146: UserWarning: A NumPy version >=1.16.5 and <1.23.0 is required for this version of SciPy (detected version 1.23.5\n",
      "  warnings.warn(f\"A NumPy version >={np_minversion} and <{np_maxversion}\"\n",
      "/home/eduardo/anaconda3/lib/python3.9/site-packages/scipy/__init__.py:146: UserWarning: A NumPy version >=1.16.5 and <1.23.0 is required for this version of SciPy (detected version 1.23.5\n",
      "  warnings.warn(f\"A NumPy version >={np_minversion} and <{np_maxversion}\"\n",
      "/home/eduardo/anaconda3/lib/python3.9/site-packages/scipy/__init__.py:146: UserWarning: A NumPy version >=1.16.5 and <1.23.0 is required for this version of SciPy (detected version 1.23.5\n",
      "  warnings.warn(f\"A NumPy version >={np_minversion} and <{np_maxversion}\"\n",
      "/home/eduardo/anaconda3/lib/python3.9/site-packages/scipy/__init__.py:146: UserWarning: A NumPy version >=1.16.5 and <1.23.0 is required for this version of SciPy (detected version 1.23.5\n",
      "  warnings.warn(f\"A NumPy version >={np_minversion} and <{np_maxversion}\"\n",
      "/home/eduardo/anaconda3/lib/python3.9/site-packages/scipy/__init__.py:146: UserWarning: A NumPy version >=1.16.5 and <1.23.0 is required for this version of SciPy (detected version 1.23.5\n",
      "  warnings.warn(f\"A NumPy version >={np_minversion} and <{np_maxversion}\"\n",
      "/home/eduardo/anaconda3/lib/python3.9/site-packages/scipy/__init__.py:146: UserWarning: A NumPy version >=1.16.5 and <1.23.0 is required for this version of SciPy (detected version 1.23.5\n",
      "  warnings.warn(f\"A NumPy version >={np_minversion} and <{np_maxversion}\"\n",
      "/home/eduardo/anaconda3/lib/python3.9/site-packages/scipy/__init__.py:146: UserWarning: A NumPy version >=1.16.5 and <1.23.0 is required for this version of SciPy (detected version 1.23.5\n",
      "  warnings.warn(f\"A NumPy version >={np_minversion} and <{np_maxversion}\"\n",
      "/home/eduardo/anaconda3/lib/python3.9/site-packages/sklearn/linear_model/_sag.py:350: ConvergenceWarning: The max_iter was reached which means the coef_ did not converge\n",
      "  warnings.warn(\n",
      "/home/eduardo/anaconda3/lib/python3.9/site-packages/sklearn/linear_model/_sag.py:350: ConvergenceWarning: The max_iter was reached which means the coef_ did not converge\n",
      "  warnings.warn(\n",
      "/home/eduardo/anaconda3/lib/python3.9/site-packages/sklearn/linear_model/_sag.py:350: ConvergenceWarning: The max_iter was reached which means the coef_ did not converge\n",
      "  warnings.warn(\n",
      "/home/eduardo/anaconda3/lib/python3.9/site-packages/sklearn/linear_model/_sag.py:350: ConvergenceWarning: The max_iter was reached which means the coef_ did not converge\n",
      "  warnings.warn(\n",
      "/home/eduardo/anaconda3/lib/python3.9/site-packages/sklearn/linear_model/_sag.py:350: ConvergenceWarning: The max_iter was reached which means the coef_ did not converge\n",
      "  warnings.warn(\n",
      "/home/eduardo/anaconda3/lib/python3.9/site-packages/sklearn/linear_model/_sag.py:350: ConvergenceWarning: The max_iter was reached which means the coef_ did not converge\n",
      "  warnings.warn(\n",
      "/home/eduardo/anaconda3/lib/python3.9/site-packages/sklearn/linear_model/_sag.py:350: ConvergenceWarning: The max_iter was reached which means the coef_ did not converge\n",
      "  warnings.warn(\n",
      "/home/eduardo/anaconda3/lib/python3.9/site-packages/sklearn/linear_model/_sag.py:350: ConvergenceWarning: The max_iter was reached which means the coef_ did not converge\n",
      "  warnings.warn(\n",
      "/home/eduardo/anaconda3/lib/python3.9/site-packages/sklearn/linear_model/_sag.py:350: ConvergenceWarning: The max_iter was reached which means the coef_ did not converge\n",
      "  warnings.warn(\n",
      "/home/eduardo/anaconda3/lib/python3.9/site-packages/sklearn/linear_model/_sag.py:350: ConvergenceWarning: The max_iter was reached which means the coef_ did not converge\n",
      "  warnings.warn(\n",
      "/home/eduardo/anaconda3/lib/python3.9/site-packages/sklearn/linear_model/_sag.py:350: ConvergenceWarning: The max_iter was reached which means the coef_ did not converge\n",
      "  warnings.warn(\n",
      "/home/eduardo/anaconda3/lib/python3.9/site-packages/sklearn/linear_model/_sag.py:350: ConvergenceWarning: The max_iter was reached which means the coef_ did not converge\n",
      "  warnings.warn(\n",
      "/home/eduardo/anaconda3/lib/python3.9/site-packages/sklearn/linear_model/_sag.py:350: ConvergenceWarning: The max_iter was reached which means the coef_ did not converge\n",
      "  warnings.warn(\n",
      "/home/eduardo/anaconda3/lib/python3.9/site-packages/sklearn/linear_model/_sag.py:350: ConvergenceWarning: The max_iter was reached which means the coef_ did not converge\n",
      "  warnings.warn(\n",
      "/home/eduardo/anaconda3/lib/python3.9/site-packages/sklearn/linear_model/_sag.py:350: ConvergenceWarning: The max_iter was reached which means the coef_ did not converge\n",
      "  warnings.warn(\n",
      "/home/eduardo/anaconda3/lib/python3.9/site-packages/sklearn/linear_model/_sag.py:350: ConvergenceWarning: The max_iter was reached which means the coef_ did not converge\n",
      "  warnings.warn(\n",
      "/home/eduardo/anaconda3/lib/python3.9/site-packages/sklearn/linear_model/_sag.py:350: ConvergenceWarning: The max_iter was reached which means the coef_ did not converge\n",
      "  warnings.warn(\n"
     ]
    },
    {
     "data": {
      "text/html": [
       "<style>#sk-container-id-26 {color: black;background-color: white;}#sk-container-id-26 pre{padding: 0;}#sk-container-id-26 div.sk-toggleable {background-color: white;}#sk-container-id-26 label.sk-toggleable__label {cursor: pointer;display: block;width: 100%;margin-bottom: 0;padding: 0.3em;box-sizing: border-box;text-align: center;}#sk-container-id-26 label.sk-toggleable__label-arrow:before {content: \"▸\";float: left;margin-right: 0.25em;color: #696969;}#sk-container-id-26 label.sk-toggleable__label-arrow:hover:before {color: black;}#sk-container-id-26 div.sk-estimator:hover label.sk-toggleable__label-arrow:before {color: black;}#sk-container-id-26 div.sk-toggleable__content {max-height: 0;max-width: 0;overflow: hidden;text-align: left;background-color: #f0f8ff;}#sk-container-id-26 div.sk-toggleable__content pre {margin: 0.2em;color: black;border-radius: 0.25em;background-color: #f0f8ff;}#sk-container-id-26 input.sk-toggleable__control:checked~div.sk-toggleable__content {max-height: 200px;max-width: 100%;overflow: auto;}#sk-container-id-26 input.sk-toggleable__control:checked~label.sk-toggleable__label-arrow:before {content: \"▾\";}#sk-container-id-26 div.sk-estimator input.sk-toggleable__control:checked~label.sk-toggleable__label {background-color: #d4ebff;}#sk-container-id-26 div.sk-label input.sk-toggleable__control:checked~label.sk-toggleable__label {background-color: #d4ebff;}#sk-container-id-26 input.sk-hidden--visually {border: 0;clip: rect(1px 1px 1px 1px);clip: rect(1px, 1px, 1px, 1px);height: 1px;margin: -1px;overflow: hidden;padding: 0;position: absolute;width: 1px;}#sk-container-id-26 div.sk-estimator {font-family: monospace;background-color: #f0f8ff;border: 1px dotted black;border-radius: 0.25em;box-sizing: border-box;margin-bottom: 0.5em;}#sk-container-id-26 div.sk-estimator:hover {background-color: #d4ebff;}#sk-container-id-26 div.sk-parallel-item::after {content: \"\";width: 100%;border-bottom: 1px solid gray;flex-grow: 1;}#sk-container-id-26 div.sk-label:hover label.sk-toggleable__label {background-color: #d4ebff;}#sk-container-id-26 div.sk-serial::before {content: \"\";position: absolute;border-left: 1px solid gray;box-sizing: border-box;top: 0;bottom: 0;left: 50%;z-index: 0;}#sk-container-id-26 div.sk-serial {display: flex;flex-direction: column;align-items: center;background-color: white;padding-right: 0.2em;padding-left: 0.2em;position: relative;}#sk-container-id-26 div.sk-item {position: relative;z-index: 1;}#sk-container-id-26 div.sk-parallel {display: flex;align-items: stretch;justify-content: center;background-color: white;position: relative;}#sk-container-id-26 div.sk-item::before, #sk-container-id-26 div.sk-parallel-item::before {content: \"\";position: absolute;border-left: 1px solid gray;box-sizing: border-box;top: 0;bottom: 0;left: 50%;z-index: -1;}#sk-container-id-26 div.sk-parallel-item {display: flex;flex-direction: column;z-index: 1;position: relative;background-color: white;}#sk-container-id-26 div.sk-parallel-item:first-child::after {align-self: flex-end;width: 50%;}#sk-container-id-26 div.sk-parallel-item:last-child::after {align-self: flex-start;width: 50%;}#sk-container-id-26 div.sk-parallel-item:only-child::after {width: 0;}#sk-container-id-26 div.sk-dashed-wrapped {border: 1px dashed gray;margin: 0 0.4em 0.5em 0.4em;box-sizing: border-box;padding-bottom: 0.4em;background-color: white;}#sk-container-id-26 div.sk-label label {font-family: monospace;font-weight: bold;display: inline-block;line-height: 1.2em;}#sk-container-id-26 div.sk-label-container {text-align: center;}#sk-container-id-26 div.sk-container {/* jupyter's `normalize.less` sets `[hidden] { display: none; }` but bootstrap.min.css set `[hidden] { display: none !important; }` so we also need the `!important` here to be able to override the default hidden behavior on the sphinx rendered scikit-learn.org. See: https://github.com/scikit-learn/scikit-learn/issues/21755 */display: inline-block !important;position: relative;}#sk-container-id-26 div.sk-text-repr-fallback {display: none;}</style><div id=\"sk-container-id-26\" class=\"sk-top-container\"><div class=\"sk-text-repr-fallback\"><pre>GridSearchCV(cv=2, estimator=LogisticRegression(), n_jobs=-1,\n",
       "             param_grid={&#x27;C&#x27;: [1.0, 2, 3, 4, 5, 6], &#x27;penalty&#x27;: [&#x27;l1&#x27;, &#x27;l2&#x27;],\n",
       "                         &#x27;solver&#x27;: [&#x27;liblinear&#x27;, &#x27;saga&#x27;],\n",
       "                         &#x27;tol&#x27;: [0.0001, 0.001, 0.01]})</pre><b>In a Jupyter environment, please rerun this cell to show the HTML representation or trust the notebook. <br />On GitHub, the HTML representation is unable to render, please try loading this page with nbviewer.org.</b></div><div class=\"sk-container\" hidden><div class=\"sk-item sk-dashed-wrapped\"><div class=\"sk-label-container\"><div class=\"sk-label sk-toggleable\"><input class=\"sk-toggleable__control sk-hidden--visually\" id=\"sk-estimator-id-64\" type=\"checkbox\" ><label for=\"sk-estimator-id-64\" class=\"sk-toggleable__label sk-toggleable__label-arrow\">GridSearchCV</label><div class=\"sk-toggleable__content\"><pre>GridSearchCV(cv=2, estimator=LogisticRegression(), n_jobs=-1,\n",
       "             param_grid={&#x27;C&#x27;: [1.0, 2, 3, 4, 5, 6], &#x27;penalty&#x27;: [&#x27;l1&#x27;, &#x27;l2&#x27;],\n",
       "                         &#x27;solver&#x27;: [&#x27;liblinear&#x27;, &#x27;saga&#x27;],\n",
       "                         &#x27;tol&#x27;: [0.0001, 0.001, 0.01]})</pre></div></div></div><div class=\"sk-parallel\"><div class=\"sk-parallel-item\"><div class=\"sk-item\"><div class=\"sk-label-container\"><div class=\"sk-label sk-toggleable\"><input class=\"sk-toggleable__control sk-hidden--visually\" id=\"sk-estimator-id-65\" type=\"checkbox\" ><label for=\"sk-estimator-id-65\" class=\"sk-toggleable__label sk-toggleable__label-arrow\">estimator: LogisticRegression</label><div class=\"sk-toggleable__content\"><pre>LogisticRegression()</pre></div></div></div><div class=\"sk-serial\"><div class=\"sk-item\"><div class=\"sk-estimator sk-toggleable\"><input class=\"sk-toggleable__control sk-hidden--visually\" id=\"sk-estimator-id-66\" type=\"checkbox\" ><label for=\"sk-estimator-id-66\" class=\"sk-toggleable__label sk-toggleable__label-arrow\">LogisticRegression</label><div class=\"sk-toggleable__content\"><pre>LogisticRegression()</pre></div></div></div></div></div></div></div></div></div></div>"
      ],
      "text/plain": [
       "GridSearchCV(cv=2, estimator=LogisticRegression(), n_jobs=-1,\n",
       "             param_grid={'C': [1.0, 2, 3, 4, 5, 6], 'penalty': ['l1', 'l2'],\n",
       "                         'solver': ['liblinear', 'saga'],\n",
       "                         'tol': [0.0001, 0.001, 0.01]})"
      ]
     },
     "execution_count": 140,
     "metadata": {},
     "output_type": "execute_result"
    }
   ],
   "source": [
    "# Define GridSearch \n",
    "gs_lr = GridSearchCV(estimator=lr, \n",
    "                      param_grid=params_grid_lr,\n",
    "                      cv=2,\n",
    "                      n_jobs=-1)\n",
    "\n",
    "# Fit GridSearch to the data\n",
    "gs_lr.fit(scaled_X_train, y_train)"
   ]
  },
  {
   "cell_type": "code",
   "execution_count": 141,
   "id": "9953c2ff",
   "metadata": {},
   "outputs": [
    {
     "data": {
      "text/plain": [
       "{'C': 5, 'penalty': 'l2', 'solver': 'saga', 'tol': 0.001}"
      ]
     },
     "execution_count": 141,
     "metadata": {},
     "output_type": "execute_result"
    }
   ],
   "source": [
    "gs_lr.best_params_"
   ]
  },
  {
   "cell_type": "code",
   "execution_count": 142,
   "id": "cb8107d7",
   "metadata": {},
   "outputs": [],
   "source": [
    "# Store the best estimators\n",
    "best_lr = gs_lr.best_estimator_\n",
    "\n",
    "# Fit the data \n",
    "best_lr.fit(scaled_X_train, y_train)\n",
    "y_pred_best_lr = best_lr.predict(scaled_X_test)"
   ]
  },
  {
   "cell_type": "code",
   "execution_count": 143,
   "id": "ab2d9a6b",
   "metadata": {},
   "outputs": [
    {
     "name": "stdout",
     "output_type": "stream",
     "text": [
      "LR model score: 0.658\n",
      "              precision    recall  f1-score   support\n",
      "\n",
      "           0       0.63      0.51      0.57      1404\n",
      "           1       0.67      0.77      0.72      1821\n",
      "\n",
      "    accuracy                           0.66      3225\n",
      "   macro avg       0.65      0.64      0.64      3225\n",
      "weighted avg       0.65      0.66      0.65      3225\n",
      "\n"
     ]
    }
   ],
   "source": [
    "# Check performance\n",
    "print(\"LR model score: %.3f\" % best_lr.score(scaled_X_test, y_test))\n",
    "\n",
    "print(classification_report(y_test, y_pred_best_lr))"
   ]
  },
  {
   "cell_type": "code",
   "execution_count": 160,
   "id": "65f84700",
   "metadata": {},
   "outputs": [
    {
     "data": {
      "text/plain": [
       "0.6771664008506114"
      ]
     },
     "execution_count": 160,
     "metadata": {},
     "output_type": "execute_result"
    }
   ],
   "source": [
    "# Check performance\n",
    "best_lr.score(scaled_X_train, y_train)"
   ]
  },
  {
   "cell_type": "markdown",
   "id": "f26849d6",
   "metadata": {},
   "source": [
    "# RandomForestClassifier"
   ]
  },
  {
   "cell_type": "code",
   "execution_count": 118,
   "id": "58129960",
   "metadata": {},
   "outputs": [
    {
     "name": "stdout",
     "output_type": "stream",
     "text": [
      "RFC model score: 0.615\n"
     ]
    }
   ],
   "source": [
    "# Instantiate classifier\n",
    "rfc = RandomForestClassifier()\n",
    "\n",
    "# Fit the training data\n",
    "rfc.fit(scaled_X_train, y_train)\n",
    "\n",
    "# Make predictions\n",
    "y_pred_rf = rfc.predict(scaled_X_test)\n",
    "\n",
    "# Check the performance \n",
    "print('RFC model score: %.3f' % rfc.score(scaled_X_test, y_test))"
   ]
  },
  {
   "cell_type": "code",
   "execution_count": 153,
   "id": "d069e550",
   "metadata": {},
   "outputs": [],
   "source": [
    "# Create the random grid\n",
    "params_grid_rfc = {'n_estimators': [100, 200, 500],\n",
    "               'max_features': ['log2', 'sqrt'],\n",
    "               'max_depth': [5, 7, 9],\n",
    "               'min_samples_split': [10, 12, 15, 17],\n",
    "               'min_samples_leaf': [1, 2, 4, 5]}\n",
    "\n",
    "# Define GridSearch \n",
    "gs_rfc = GridSearchCV(estimator=rfc, \n",
    "                      param_grid=params_grid_rfc,\n",
    "                      cv=2,\n",
    "                      n_jobs=-1)"
   ]
  },
  {
   "cell_type": "code",
   "execution_count": 154,
   "id": "81c4a445",
   "metadata": {},
   "outputs": [
    {
     "data": {
      "text/html": [
       "<style>#sk-container-id-30 {color: black;background-color: white;}#sk-container-id-30 pre{padding: 0;}#sk-container-id-30 div.sk-toggleable {background-color: white;}#sk-container-id-30 label.sk-toggleable__label {cursor: pointer;display: block;width: 100%;margin-bottom: 0;padding: 0.3em;box-sizing: border-box;text-align: center;}#sk-container-id-30 label.sk-toggleable__label-arrow:before {content: \"▸\";float: left;margin-right: 0.25em;color: #696969;}#sk-container-id-30 label.sk-toggleable__label-arrow:hover:before {color: black;}#sk-container-id-30 div.sk-estimator:hover label.sk-toggleable__label-arrow:before {color: black;}#sk-container-id-30 div.sk-toggleable__content {max-height: 0;max-width: 0;overflow: hidden;text-align: left;background-color: #f0f8ff;}#sk-container-id-30 div.sk-toggleable__content pre {margin: 0.2em;color: black;border-radius: 0.25em;background-color: #f0f8ff;}#sk-container-id-30 input.sk-toggleable__control:checked~div.sk-toggleable__content {max-height: 200px;max-width: 100%;overflow: auto;}#sk-container-id-30 input.sk-toggleable__control:checked~label.sk-toggleable__label-arrow:before {content: \"▾\";}#sk-container-id-30 div.sk-estimator input.sk-toggleable__control:checked~label.sk-toggleable__label {background-color: #d4ebff;}#sk-container-id-30 div.sk-label input.sk-toggleable__control:checked~label.sk-toggleable__label {background-color: #d4ebff;}#sk-container-id-30 input.sk-hidden--visually {border: 0;clip: rect(1px 1px 1px 1px);clip: rect(1px, 1px, 1px, 1px);height: 1px;margin: -1px;overflow: hidden;padding: 0;position: absolute;width: 1px;}#sk-container-id-30 div.sk-estimator {font-family: monospace;background-color: #f0f8ff;border: 1px dotted black;border-radius: 0.25em;box-sizing: border-box;margin-bottom: 0.5em;}#sk-container-id-30 div.sk-estimator:hover {background-color: #d4ebff;}#sk-container-id-30 div.sk-parallel-item::after {content: \"\";width: 100%;border-bottom: 1px solid gray;flex-grow: 1;}#sk-container-id-30 div.sk-label:hover label.sk-toggleable__label {background-color: #d4ebff;}#sk-container-id-30 div.sk-serial::before {content: \"\";position: absolute;border-left: 1px solid gray;box-sizing: border-box;top: 0;bottom: 0;left: 50%;z-index: 0;}#sk-container-id-30 div.sk-serial {display: flex;flex-direction: column;align-items: center;background-color: white;padding-right: 0.2em;padding-left: 0.2em;position: relative;}#sk-container-id-30 div.sk-item {position: relative;z-index: 1;}#sk-container-id-30 div.sk-parallel {display: flex;align-items: stretch;justify-content: center;background-color: white;position: relative;}#sk-container-id-30 div.sk-item::before, #sk-container-id-30 div.sk-parallel-item::before {content: \"\";position: absolute;border-left: 1px solid gray;box-sizing: border-box;top: 0;bottom: 0;left: 50%;z-index: -1;}#sk-container-id-30 div.sk-parallel-item {display: flex;flex-direction: column;z-index: 1;position: relative;background-color: white;}#sk-container-id-30 div.sk-parallel-item:first-child::after {align-self: flex-end;width: 50%;}#sk-container-id-30 div.sk-parallel-item:last-child::after {align-self: flex-start;width: 50%;}#sk-container-id-30 div.sk-parallel-item:only-child::after {width: 0;}#sk-container-id-30 div.sk-dashed-wrapped {border: 1px dashed gray;margin: 0 0.4em 0.5em 0.4em;box-sizing: border-box;padding-bottom: 0.4em;background-color: white;}#sk-container-id-30 div.sk-label label {font-family: monospace;font-weight: bold;display: inline-block;line-height: 1.2em;}#sk-container-id-30 div.sk-label-container {text-align: center;}#sk-container-id-30 div.sk-container {/* jupyter's `normalize.less` sets `[hidden] { display: none; }` but bootstrap.min.css set `[hidden] { display: none !important; }` so we also need the `!important` here to be able to override the default hidden behavior on the sphinx rendered scikit-learn.org. See: https://github.com/scikit-learn/scikit-learn/issues/21755 */display: inline-block !important;position: relative;}#sk-container-id-30 div.sk-text-repr-fallback {display: none;}</style><div id=\"sk-container-id-30\" class=\"sk-top-container\"><div class=\"sk-text-repr-fallback\"><pre>GridSearchCV(cv=2, estimator=RandomForestClassifier(), n_jobs=-1,\n",
       "             param_grid={&#x27;max_depth&#x27;: [5, 7, 9],\n",
       "                         &#x27;max_features&#x27;: [&#x27;log2&#x27;, &#x27;sqrt&#x27;],\n",
       "                         &#x27;min_samples_leaf&#x27;: [1, 2, 4, 5],\n",
       "                         &#x27;min_samples_split&#x27;: [10, 12, 15, 17],\n",
       "                         &#x27;n_estimators&#x27;: [100, 200, 500]})</pre><b>In a Jupyter environment, please rerun this cell to show the HTML representation or trust the notebook. <br />On GitHub, the HTML representation is unable to render, please try loading this page with nbviewer.org.</b></div><div class=\"sk-container\" hidden><div class=\"sk-item sk-dashed-wrapped\"><div class=\"sk-label-container\"><div class=\"sk-label sk-toggleable\"><input class=\"sk-toggleable__control sk-hidden--visually\" id=\"sk-estimator-id-76\" type=\"checkbox\" ><label for=\"sk-estimator-id-76\" class=\"sk-toggleable__label sk-toggleable__label-arrow\">GridSearchCV</label><div class=\"sk-toggleable__content\"><pre>GridSearchCV(cv=2, estimator=RandomForestClassifier(), n_jobs=-1,\n",
       "             param_grid={&#x27;max_depth&#x27;: [5, 7, 9],\n",
       "                         &#x27;max_features&#x27;: [&#x27;log2&#x27;, &#x27;sqrt&#x27;],\n",
       "                         &#x27;min_samples_leaf&#x27;: [1, 2, 4, 5],\n",
       "                         &#x27;min_samples_split&#x27;: [10, 12, 15, 17],\n",
       "                         &#x27;n_estimators&#x27;: [100, 200, 500]})</pre></div></div></div><div class=\"sk-parallel\"><div class=\"sk-parallel-item\"><div class=\"sk-item\"><div class=\"sk-label-container\"><div class=\"sk-label sk-toggleable\"><input class=\"sk-toggleable__control sk-hidden--visually\" id=\"sk-estimator-id-77\" type=\"checkbox\" ><label for=\"sk-estimator-id-77\" class=\"sk-toggleable__label sk-toggleable__label-arrow\">estimator: RandomForestClassifier</label><div class=\"sk-toggleable__content\"><pre>RandomForestClassifier()</pre></div></div></div><div class=\"sk-serial\"><div class=\"sk-item\"><div class=\"sk-estimator sk-toggleable\"><input class=\"sk-toggleable__control sk-hidden--visually\" id=\"sk-estimator-id-78\" type=\"checkbox\" ><label for=\"sk-estimator-id-78\" class=\"sk-toggleable__label sk-toggleable__label-arrow\">RandomForestClassifier</label><div class=\"sk-toggleable__content\"><pre>RandomForestClassifier()</pre></div></div></div></div></div></div></div></div></div></div>"
      ],
      "text/plain": [
       "GridSearchCV(cv=2, estimator=RandomForestClassifier(), n_jobs=-1,\n",
       "             param_grid={'max_depth': [5, 7, 9],\n",
       "                         'max_features': ['log2', 'sqrt'],\n",
       "                         'min_samples_leaf': [1, 2, 4, 5],\n",
       "                         'min_samples_split': [10, 12, 15, 17],\n",
       "                         'n_estimators': [100, 200, 500]})"
      ]
     },
     "execution_count": 154,
     "metadata": {},
     "output_type": "execute_result"
    }
   ],
   "source": [
    "# Fit GridSearch to the data\n",
    "gs_rfc.fit(scaled_X_train, y_train)"
   ]
  },
  {
   "cell_type": "code",
   "execution_count": 155,
   "id": "cd054227",
   "metadata": {},
   "outputs": [
    {
     "data": {
      "text/plain": [
       "{'max_depth': 7,\n",
       " 'max_features': 'log2',\n",
       " 'min_samples_leaf': 4,\n",
       " 'min_samples_split': 12,\n",
       " 'n_estimators': 200}"
      ]
     },
     "execution_count": 155,
     "metadata": {},
     "output_type": "execute_result"
    }
   ],
   "source": [
    "gs_rfc.best_params_"
   ]
  },
  {
   "cell_type": "code",
   "execution_count": 156,
   "id": "fbbc7dde",
   "metadata": {},
   "outputs": [],
   "source": [
    "# Store best estimators\n",
    "best_rfc = gs_rfc.best_estimator_"
   ]
  },
  {
   "cell_type": "code",
   "execution_count": 157,
   "id": "71903bf1",
   "metadata": {},
   "outputs": [],
   "source": [
    "# Fit the data \n",
    "best_rfc.fit(scaled_X_train, y_train)\n",
    "y_pred_best_rfc = best_rfc.predict(scaled_X_test)"
   ]
  },
  {
   "cell_type": "code",
   "execution_count": 158,
   "id": "761205d4",
   "metadata": {},
   "outputs": [
    {
     "name": "stdout",
     "output_type": "stream",
     "text": [
      "RFC model score: 0.644\n",
      "              precision    recall  f1-score   support\n",
      "\n",
      "           0       0.63      0.45      0.52      1404\n",
      "           1       0.65      0.79      0.72      1821\n",
      "\n",
      "    accuracy                           0.64      3225\n",
      "   macro avg       0.64      0.62      0.62      3225\n",
      "weighted avg       0.64      0.64      0.63      3225\n",
      "\n"
     ]
    }
   ],
   "source": [
    "# Check performance\n",
    "print(\"RFC model score: %.3f\" % best_rfc.score(scaled_X_test, y_test))\n",
    "\n",
    "print(classification_report(y_test, y_pred_best_rfc))"
   ]
  },
  {
   "cell_type": "code",
   "execution_count": 159,
   "id": "e7f4d8ab",
   "metadata": {},
   "outputs": [
    {
     "data": {
      "text/plain": [
       "0.7222222222222222"
      ]
     },
     "execution_count": 159,
     "metadata": {},
     "output_type": "execute_result"
    }
   ],
   "source": [
    "# Check performance for trainset as well\n",
    "best_rfc.score(scaled_X_train, y_train)"
   ]
  },
  {
   "cell_type": "markdown",
   "id": "3b54576c",
   "metadata": {},
   "source": [
    "# SVM"
   ]
  },
  {
   "cell_type": "code",
   "execution_count": 161,
   "id": "8597086e",
   "metadata": {},
   "outputs": [],
   "source": [
    "# Instantiate SVM classifier\n",
    "svc = SVC()\n",
    "\n",
    "# Fit the data\n",
    "svc.fit(scaled_X_train, y_train)\n",
    "\n",
    "# Make predictions\n",
    "y_pred_svc = svc.predict(scaled_X_test)"
   ]
  },
  {
   "cell_type": "code",
   "execution_count": 162,
   "id": "44dda2cd",
   "metadata": {},
   "outputs": [
    {
     "name": "stdout",
     "output_type": "stream",
     "text": [
      "SVC model score: 0.646\n",
      "              precision    recall  f1-score   support\n",
      "\n",
      "           0       0.62      0.48      0.54      1404\n",
      "           1       0.66      0.77      0.71      1821\n",
      "\n",
      "    accuracy                           0.65      3225\n",
      "   macro avg       0.64      0.63      0.63      3225\n",
      "weighted avg       0.64      0.65      0.64      3225\n",
      "\n"
     ]
    }
   ],
   "source": [
    "# Check performance\n",
    "print(\"SVC model score: %.3f\" % svc.score(scaled_X_test, y_test))\n",
    "\n",
    "print(classification_report(y_test, y_pred_svc))"
   ]
  },
  {
   "cell_type": "code",
   "execution_count": 163,
   "id": "7b8dea20",
   "metadata": {},
   "outputs": [],
   "source": [
    "# Parameter grid for svc model\n",
    "params_grid_svc = {\n",
    "    'kernel': ['linear', 'poly', 'rbf'],\n",
    "    'C': [0.75, 1, 1.25, 2],\n",
    "    'gamma': ['scale', 'auto']}"
   ]
  },
  {
   "cell_type": "code",
   "execution_count": 164,
   "id": "0a61a822",
   "metadata": {},
   "outputs": [],
   "source": [
    "# Perform GridSearch for SVM\n",
    "gs_svc = GridSearchCV(estimator=svc, \n",
    "                      param_grid=params_grid_svc,\n",
    "                      cv=2,\n",
    "                      n_jobs=-1)"
   ]
  },
  {
   "cell_type": "code",
   "execution_count": 165,
   "id": "ea76d5a4",
   "metadata": {},
   "outputs": [
    {
     "name": "stderr",
     "output_type": "stream",
     "text": [
      "/home/eduardo/anaconda3/lib/python3.9/site-packages/scipy/__init__.py:146: UserWarning: A NumPy version >=1.16.5 and <1.23.0 is required for this version of SciPy (detected version 1.23.5\n",
      "  warnings.warn(f\"A NumPy version >={np_minversion} and <{np_maxversion}\"\n",
      "/home/eduardo/anaconda3/lib/python3.9/site-packages/scipy/__init__.py:146: UserWarning: A NumPy version >=1.16.5 and <1.23.0 is required for this version of SciPy (detected version 1.23.5\n",
      "  warnings.warn(f\"A NumPy version >={np_minversion} and <{np_maxversion}\"\n",
      "/home/eduardo/anaconda3/lib/python3.9/site-packages/scipy/__init__.py:146: UserWarning: A NumPy version >=1.16.5 and <1.23.0 is required for this version of SciPy (detected version 1.23.5\n",
      "  warnings.warn(f\"A NumPy version >={np_minversion} and <{np_maxversion}\"\n",
      "/home/eduardo/anaconda3/lib/python3.9/site-packages/scipy/__init__.py:146: UserWarning: A NumPy version >=1.16.5 and <1.23.0 is required for this version of SciPy (detected version 1.23.5\n",
      "  warnings.warn(f\"A NumPy version >={np_minversion} and <{np_maxversion}\"\n",
      "/home/eduardo/anaconda3/lib/python3.9/site-packages/scipy/__init__.py:146: UserWarning: A NumPy version >=1.16.5 and <1.23.0 is required for this version of SciPy (detected version 1.23.5\n",
      "  warnings.warn(f\"A NumPy version >={np_minversion} and <{np_maxversion}\"\n",
      "/home/eduardo/anaconda3/lib/python3.9/site-packages/scipy/__init__.py:146: UserWarning: A NumPy version >=1.16.5 and <1.23.0 is required for this version of SciPy (detected version 1.23.5\n",
      "  warnings.warn(f\"A NumPy version >={np_minversion} and <{np_maxversion}\"\n",
      "/home/eduardo/anaconda3/lib/python3.9/site-packages/scipy/__init__.py:146: UserWarning: A NumPy version >=1.16.5 and <1.23.0 is required for this version of SciPy (detected version 1.23.5\n",
      "  warnings.warn(f\"A NumPy version >={np_minversion} and <{np_maxversion}\"\n",
      "/home/eduardo/anaconda3/lib/python3.9/site-packages/scipy/__init__.py:146: UserWarning: A NumPy version >=1.16.5 and <1.23.0 is required for this version of SciPy (detected version 1.23.5\n",
      "  warnings.warn(f\"A NumPy version >={np_minversion} and <{np_maxversion}\"\n",
      "/home/eduardo/anaconda3/lib/python3.9/site-packages/scipy/__init__.py:146: UserWarning: A NumPy version >=1.16.5 and <1.23.0 is required for this version of SciPy (detected version 1.23.5\n",
      "  warnings.warn(f\"A NumPy version >={np_minversion} and <{np_maxversion}\"\n",
      "/home/eduardo/anaconda3/lib/python3.9/site-packages/scipy/__init__.py:146: UserWarning: A NumPy version >=1.16.5 and <1.23.0 is required for this version of SciPy (detected version 1.23.5\n",
      "  warnings.warn(f\"A NumPy version >={np_minversion} and <{np_maxversion}\"\n",
      "/home/eduardo/anaconda3/lib/python3.9/site-packages/scipy/__init__.py:146: UserWarning: A NumPy version >=1.16.5 and <1.23.0 is required for this version of SciPy (detected version 1.23.5\n",
      "  warnings.warn(f\"A NumPy version >={np_minversion} and <{np_maxversion}\"\n",
      "/home/eduardo/anaconda3/lib/python3.9/site-packages/scipy/__init__.py:146: UserWarning: A NumPy version >=1.16.5 and <1.23.0 is required for this version of SciPy (detected version 1.23.5\n",
      "  warnings.warn(f\"A NumPy version >={np_minversion} and <{np_maxversion}\"\n"
     ]
    },
    {
     "data": {
      "text/html": [
       "<style>#sk-container-id-31 {color: black;background-color: white;}#sk-container-id-31 pre{padding: 0;}#sk-container-id-31 div.sk-toggleable {background-color: white;}#sk-container-id-31 label.sk-toggleable__label {cursor: pointer;display: block;width: 100%;margin-bottom: 0;padding: 0.3em;box-sizing: border-box;text-align: center;}#sk-container-id-31 label.sk-toggleable__label-arrow:before {content: \"▸\";float: left;margin-right: 0.25em;color: #696969;}#sk-container-id-31 label.sk-toggleable__label-arrow:hover:before {color: black;}#sk-container-id-31 div.sk-estimator:hover label.sk-toggleable__label-arrow:before {color: black;}#sk-container-id-31 div.sk-toggleable__content {max-height: 0;max-width: 0;overflow: hidden;text-align: left;background-color: #f0f8ff;}#sk-container-id-31 div.sk-toggleable__content pre {margin: 0.2em;color: black;border-radius: 0.25em;background-color: #f0f8ff;}#sk-container-id-31 input.sk-toggleable__control:checked~div.sk-toggleable__content {max-height: 200px;max-width: 100%;overflow: auto;}#sk-container-id-31 input.sk-toggleable__control:checked~label.sk-toggleable__label-arrow:before {content: \"▾\";}#sk-container-id-31 div.sk-estimator input.sk-toggleable__control:checked~label.sk-toggleable__label {background-color: #d4ebff;}#sk-container-id-31 div.sk-label input.sk-toggleable__control:checked~label.sk-toggleable__label {background-color: #d4ebff;}#sk-container-id-31 input.sk-hidden--visually {border: 0;clip: rect(1px 1px 1px 1px);clip: rect(1px, 1px, 1px, 1px);height: 1px;margin: -1px;overflow: hidden;padding: 0;position: absolute;width: 1px;}#sk-container-id-31 div.sk-estimator {font-family: monospace;background-color: #f0f8ff;border: 1px dotted black;border-radius: 0.25em;box-sizing: border-box;margin-bottom: 0.5em;}#sk-container-id-31 div.sk-estimator:hover {background-color: #d4ebff;}#sk-container-id-31 div.sk-parallel-item::after {content: \"\";width: 100%;border-bottom: 1px solid gray;flex-grow: 1;}#sk-container-id-31 div.sk-label:hover label.sk-toggleable__label {background-color: #d4ebff;}#sk-container-id-31 div.sk-serial::before {content: \"\";position: absolute;border-left: 1px solid gray;box-sizing: border-box;top: 0;bottom: 0;left: 50%;z-index: 0;}#sk-container-id-31 div.sk-serial {display: flex;flex-direction: column;align-items: center;background-color: white;padding-right: 0.2em;padding-left: 0.2em;position: relative;}#sk-container-id-31 div.sk-item {position: relative;z-index: 1;}#sk-container-id-31 div.sk-parallel {display: flex;align-items: stretch;justify-content: center;background-color: white;position: relative;}#sk-container-id-31 div.sk-item::before, #sk-container-id-31 div.sk-parallel-item::before {content: \"\";position: absolute;border-left: 1px solid gray;box-sizing: border-box;top: 0;bottom: 0;left: 50%;z-index: -1;}#sk-container-id-31 div.sk-parallel-item {display: flex;flex-direction: column;z-index: 1;position: relative;background-color: white;}#sk-container-id-31 div.sk-parallel-item:first-child::after {align-self: flex-end;width: 50%;}#sk-container-id-31 div.sk-parallel-item:last-child::after {align-self: flex-start;width: 50%;}#sk-container-id-31 div.sk-parallel-item:only-child::after {width: 0;}#sk-container-id-31 div.sk-dashed-wrapped {border: 1px dashed gray;margin: 0 0.4em 0.5em 0.4em;box-sizing: border-box;padding-bottom: 0.4em;background-color: white;}#sk-container-id-31 div.sk-label label {font-family: monospace;font-weight: bold;display: inline-block;line-height: 1.2em;}#sk-container-id-31 div.sk-label-container {text-align: center;}#sk-container-id-31 div.sk-container {/* jupyter's `normalize.less` sets `[hidden] { display: none; }` but bootstrap.min.css set `[hidden] { display: none !important; }` so we also need the `!important` here to be able to override the default hidden behavior on the sphinx rendered scikit-learn.org. See: https://github.com/scikit-learn/scikit-learn/issues/21755 */display: inline-block !important;position: relative;}#sk-container-id-31 div.sk-text-repr-fallback {display: none;}</style><div id=\"sk-container-id-31\" class=\"sk-top-container\"><div class=\"sk-text-repr-fallback\"><pre>GridSearchCV(cv=2, estimator=SVC(), n_jobs=-1,\n",
       "             param_grid={&#x27;C&#x27;: [0.75, 1, 1.25, 2], &#x27;gamma&#x27;: [&#x27;scale&#x27;, &#x27;auto&#x27;],\n",
       "                         &#x27;kernel&#x27;: [&#x27;linear&#x27;, &#x27;poly&#x27;, &#x27;rbf&#x27;]})</pre><b>In a Jupyter environment, please rerun this cell to show the HTML representation or trust the notebook. <br />On GitHub, the HTML representation is unable to render, please try loading this page with nbviewer.org.</b></div><div class=\"sk-container\" hidden><div class=\"sk-item sk-dashed-wrapped\"><div class=\"sk-label-container\"><div class=\"sk-label sk-toggleable\"><input class=\"sk-toggleable__control sk-hidden--visually\" id=\"sk-estimator-id-79\" type=\"checkbox\" ><label for=\"sk-estimator-id-79\" class=\"sk-toggleable__label sk-toggleable__label-arrow\">GridSearchCV</label><div class=\"sk-toggleable__content\"><pre>GridSearchCV(cv=2, estimator=SVC(), n_jobs=-1,\n",
       "             param_grid={&#x27;C&#x27;: [0.75, 1, 1.25, 2], &#x27;gamma&#x27;: [&#x27;scale&#x27;, &#x27;auto&#x27;],\n",
       "                         &#x27;kernel&#x27;: [&#x27;linear&#x27;, &#x27;poly&#x27;, &#x27;rbf&#x27;]})</pre></div></div></div><div class=\"sk-parallel\"><div class=\"sk-parallel-item\"><div class=\"sk-item\"><div class=\"sk-label-container\"><div class=\"sk-label sk-toggleable\"><input class=\"sk-toggleable__control sk-hidden--visually\" id=\"sk-estimator-id-80\" type=\"checkbox\" ><label for=\"sk-estimator-id-80\" class=\"sk-toggleable__label sk-toggleable__label-arrow\">estimator: SVC</label><div class=\"sk-toggleable__content\"><pre>SVC()</pre></div></div></div><div class=\"sk-serial\"><div class=\"sk-item\"><div class=\"sk-estimator sk-toggleable\"><input class=\"sk-toggleable__control sk-hidden--visually\" id=\"sk-estimator-id-81\" type=\"checkbox\" ><label for=\"sk-estimator-id-81\" class=\"sk-toggleable__label sk-toggleable__label-arrow\">SVC</label><div class=\"sk-toggleable__content\"><pre>SVC()</pre></div></div></div></div></div></div></div></div></div></div>"
      ],
      "text/plain": [
       "GridSearchCV(cv=2, estimator=SVC(), n_jobs=-1,\n",
       "             param_grid={'C': [0.75, 1, 1.25, 2], 'gamma': ['scale', 'auto'],\n",
       "                         'kernel': ['linear', 'poly', 'rbf']})"
      ]
     },
     "execution_count": 165,
     "metadata": {},
     "output_type": "execute_result"
    }
   ],
   "source": [
    "# Fit GridSearch to the data\n",
    "gs_svc.fit(scaled_X_train, y_train)"
   ]
  },
  {
   "cell_type": "code",
   "execution_count": null,
   "id": "557faa9d",
   "metadata": {},
   "outputs": [],
   "source": []
  }
 ],
 "metadata": {
  "kernelspec": {
   "display_name": "Python 3 (ipykernel)",
   "language": "python",
   "name": "python3"
  },
  "language_info": {
   "codemirror_mode": {
    "name": "ipython",
    "version": 3
   },
   "file_extension": ".py",
   "mimetype": "text/x-python",
   "name": "python",
   "nbconvert_exporter": "python",
   "pygments_lexer": "ipython3",
   "version": "3.9.12"
  }
 },
 "nbformat": 4,
 "nbformat_minor": 5
}
